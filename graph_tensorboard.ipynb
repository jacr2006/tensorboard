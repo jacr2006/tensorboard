{
  "nbformat": 4,
  "nbformat_minor": 0,
  "metadata": {
    "colab": {
      "name": "graph tensorboard.ipynb",
      "version": "0.3.2",
      "provenance": [],
      "collapsed_sections": [],
      "include_colab_link": true
    },
    "kernelspec": {
      "name": "python3",
      "display_name": "Python 3"
    },
    "accelerator": "GPU"
  },
  "cells": [
    {
      "cell_type": "markdown",
      "metadata": {
        "id": "view-in-github",
        "colab_type": "text"
      },
      "source": [
        "<a href=\"https://colab.research.google.com/github/jacr2006/tensorboard/blob/master/graph_tensorboard.ipynb\" target=\"_parent\"><img src=\"https://colab.research.google.com/assets/colab-badge.svg\" alt=\"Open In Colab\"/></a>"
      ]
    },
    {
      "cell_type": "markdown",
      "metadata": {
        "id": "lNVMJWROy7Ks",
        "colab_type": "text"
      },
      "source": [
        "##Perceptron\n",
        "\n",
        "El propósito de este notebook es entrenar un Perceptrón (Red Neuronal de una capa) para un problema de clasificación multiclase de digitos escritos a mano. Finalmente se tratará de inferir la clase a la que pertenece una imagen de un digito escritos a mano. Para el entrenamiento usaremos el dataset MNIST conformado por 60.000 imagenes de entrenamiento y 10.000 imagenes de prueba.\n",
        "\n",
        "Es posible usar un Perceptron para este problema porque de antemano sabemos que el conjunto de entranamiento el linealmente separable.\n",
        "Este dataset esta disponible en la libreria \"tensorflow_datasets\" de tensorflow."
      ]
    },
    {
      "cell_type": "code",
      "metadata": {
        "id": "9zpbK3ahzsEX",
        "colab_type": "code",
        "outputId": "d502ee75-d86e-4c86-84cc-b04859b71562",
        "colab": {
          "base_uri": "https://localhost:8080/",
          "height": 34
        }
      },
      "source": [
        "!pip install tensorboardcolab"
      ],
      "execution_count": 30,
      "outputs": [
        {
          "output_type": "stream",
          "text": [
            "Requirement already satisfied: tensorboardcolab in /usr/local/lib/python3.6/dist-packages (0.0.22)\n"
          ],
          "name": "stdout"
        }
      ]
    },
    {
      "cell_type": "markdown",
      "metadata": {
        "id": "NmpqvCuTe7ZB",
        "colab_type": "text"
      },
      "source": [
        "Importar las librerias necesarias"
      ]
    },
    {
      "cell_type": "code",
      "metadata": {
        "id": "7zY_tbRdcgwa",
        "colab_type": "code",
        "colab": {}
      },
      "source": [
        "import tensorflow as tf\n",
        "import tensorflow_datasets as tfds\n",
        "import matplotlib.pyplot as plt"
      ],
      "execution_count": 0,
      "outputs": []
    },
    {
      "cell_type": "code",
      "metadata": {
        "id": "Q1m50CZ6E6Y6",
        "colab_type": "code",
        "colab": {}
      },
      "source": [
        "tf.reset_default_graph()"
      ],
      "execution_count": 0,
      "outputs": []
    },
    {
      "cell_type": "markdown",
      "metadata": {
        "id": "cmWD9Bh7lMc7",
        "colab_type": "text"
      },
      "source": [
        "###Datos\n",
        "En este dataset la data de entrada es un conjunto imagenes que estan centradas y estandarizadas en tamaño (28X28x1 pixels, en blanco y negro), no es requerida limpieza de los datos. La data de salida esta conformada por un conjuto finito de datos etiquetados entre el valor 0 y el 9, data categórica.\n",
        "Lectura de los datos de entrenamiento"
      ]
    },
    {
      "cell_type": "code",
      "metadata": {
        "id": "wcHVhWLQ1xM2",
        "colab_type": "code",
        "colab": {}
      },
      "source": [
        "train_ds = tfds.load(\"mnist\", split=tfds.Split.TRAIN, batch_size=-1)\n",
        "numpy_ds = tfds.as_numpy(train_ds)\n",
        "numpy_images, numpy_labels = numpy_ds[\"image\"], numpy_ds[\"label\"]"
      ],
      "execution_count": 0,
      "outputs": []
    },
    {
      "cell_type": "code",
      "metadata": {
        "id": "9Kxoiod2_hjK",
        "colab_type": "code",
        "outputId": "aa079aaf-e7ac-48a1-be4d-79d02254b213",
        "colab": {
          "base_uri": "https://localhost:8080/",
          "height": 34
        }
      },
      "source": [
        "numpy_images.shape"
      ],
      "execution_count": 34,
      "outputs": [
        {
          "output_type": "execute_result",
          "data": {
            "text/plain": [
              "(60000, 28, 28, 1)"
            ]
          },
          "metadata": {
            "tags": []
          },
          "execution_count": 34
        }
      ]
    },
    {
      "cell_type": "markdown",
      "metadata": {
        "id": "EAE803OqmPx2",
        "colab_type": "text"
      },
      "source": [
        "Como la entrada al Perceptron debe ser de una dimension, se requiere una transformacion de la data de entrada de 60000x28x28x1 a 60000x784"
      ]
    },
    {
      "cell_type": "code",
      "metadata": {
        "id": "Q6J40p-CRzYJ",
        "colab_type": "code",
        "colab": {}
      },
      "source": [
        "width = 28 # ancho de la imagen en pixels\n",
        "height = 28 # altura de la imagen en pixels\n",
        "flat = width * height # numero de pixels de la imagen\n",
        "class_output = 10 # numero de clases"
      ],
      "execution_count": 0,
      "outputs": []
    },
    {
      "cell_type": "code",
      "metadata": {
        "id": "JRzVt5hYbByQ",
        "colab_type": "code",
        "colab": {}
      },
      "source": [
        "numpy_images=numpy_images.reshape(60000,flat)"
      ],
      "execution_count": 0,
      "outputs": []
    },
    {
      "cell_type": "code",
      "metadata": {
        "id": "HSHsUaUpUqgs",
        "colab_type": "code",
        "outputId": "667dd285-3741-469e-f699-85027effedf3",
        "colab": {
          "base_uri": "https://localhost:8080/",
          "height": 34
        }
      },
      "source": [
        "numpy_images.shape"
      ],
      "execution_count": 37,
      "outputs": [
        {
          "output_type": "execute_result",
          "data": {
            "text/plain": [
              "(60000, 784)"
            ]
          },
          "metadata": {
            "tags": []
          },
          "execution_count": 37
        }
      ]
    },
    {
      "cell_type": "markdown",
      "metadata": {
        "id": "BgclhEqP9yNt",
        "colab_type": "text"
      },
      "source": [
        "La siguiente figura muestra la imagen de un numero perteneciente al conjunto de entrenamiento"
      ]
    },
    {
      "cell_type": "code",
      "metadata": {
        "id": "JzbUa6Rrtebk",
        "colab_type": "code",
        "outputId": "315bd249-0253-457e-d1c6-882f28feb691",
        "colab": {
          "base_uri": "https://localhost:8080/",
          "height": 286
        }
      },
      "source": [
        "image_index = 42 \n",
        "img=numpy_images[image_index].reshape(width,height)\n",
        "plt.imshow(img, cmap=\"gray\")"
      ],
      "execution_count": 38,
      "outputs": [
        {
          "output_type": "execute_result",
          "data": {
            "text/plain": [
              "<matplotlib.image.AxesImage at 0x7f10b0063128>"
            ]
          },
          "metadata": {
            "tags": []
          },
          "execution_count": 38
        },
        {
          "output_type": "display_data",
          "data": {
            "image/png": "[encoded data removed]",
            "text/plain": [
              "<Figure size 432x288 with 1 Axes>"
            ]
          },
          "metadata": {
            "tags": []
          }
        }
      ]
    },
    {
      "cell_type": "code",
      "metadata": {
        "id": "3_KN0Yw6DGLD",
        "colab_type": "code",
        "outputId": "7411bcda-35ce-43ed-baad-7aeee5a97a9a",
        "colab": {
          "base_uri": "https://localhost:8080/",
          "height": 34
        }
      },
      "source": [
        "numpy_labels.shape"
      ],
      "execution_count": 39,
      "outputs": [
        {
          "output_type": "execute_result",
          "data": {
            "text/plain": [
              "(60000,)"
            ]
          },
          "metadata": {
            "tags": []
          },
          "execution_count": 39
        }
      ]
    },
    {
      "cell_type": "markdown",
      "metadata": {
        "id": "PxpqZOi4nIe3",
        "colab_type": "text"
      },
      "source": [
        "Lectura de los datos de prueba"
      ]
    },
    {
      "cell_type": "code",
      "metadata": {
        "id": "DJhRTr97Z7uV",
        "colab_type": "code",
        "colab": {}
      },
      "source": [
        "test_ds = tfds.load(\"mnist\", split=tfds.Split.TEST, batch_size=-1)\n",
        "numpy_ds_test = tfds.as_numpy(test_ds)\n",
        "numpy_images_test, numpy_labels_test = numpy_ds_test[\"image\"], numpy_ds_test[\"label\"]"
      ],
      "execution_count": 0,
      "outputs": []
    },
    {
      "cell_type": "code",
      "metadata": {
        "id": "YzWroSUra6lp",
        "colab_type": "code",
        "outputId": "d9cf23c4-36ed-4cab-936f-06aee1d4eaae",
        "colab": {
          "base_uri": "https://localhost:8080/",
          "height": 34
        }
      },
      "source": [
        "numpy_images_test.shape"
      ],
      "execution_count": 41,
      "outputs": [
        {
          "output_type": "execute_result",
          "data": {
            "text/plain": [
              "(10000, 28, 28, 1)"
            ]
          },
          "metadata": {
            "tags": []
          },
          "execution_count": 41
        }
      ]
    },
    {
      "cell_type": "code",
      "metadata": {
        "id": "sTvF0A92azy5",
        "colab_type": "code",
        "outputId": "a8ca5040-daa4-407b-cb3e-a37da88896a7",
        "colab": {
          "base_uri": "https://localhost:8080/",
          "height": 34
        }
      },
      "source": [
        "numpy_images_test=numpy_images_test.reshape(10000,flat)\n",
        "numpy_images_test.shape"
      ],
      "execution_count": 42,
      "outputs": [
        {
          "output_type": "execute_result",
          "data": {
            "text/plain": [
              "(10000, 784)"
            ]
          },
          "metadata": {
            "tags": []
          },
          "execution_count": 42
        }
      ]
    },
    {
      "cell_type": "code",
      "metadata": {
        "colab_type": "code",
        "id": "pV7pwioKNW_r",
        "colab": {}
      },
      "source": [
        "sess = tf.InteractiveSession()#se crea una sesion interativa, ideal para notebooks"
      ],
      "execution_count": 0,
      "outputs": []
    },
    {
      "cell_type": "markdown",
      "metadata": {
        "id": "uvTrEfCZzO7G",
        "colab_type": "text"
      },
      "source": [
        "Los algoritmos de \"machine learning\" no funcionan bien con data categorica directamente. Por tanto, se deben codificar estas categorias numéricas en vectores binarios. Para este caso donde existen 10 clases de salida representadas por un valor decimal entre 0 y 9. Se codificaran en un vector binario 1x10 donde solo existe una columna con un valor 1 mientras el resto son 0."
      ]
    },
    {
      "cell_type": "code",
      "metadata": {
        "id": "Th2gOhq2ETUA",
        "colab_type": "code",
        "colab": {}
      },
      "source": [
        "numpy_labels=tf.one_hot(numpy_labels, depth=class_output)\n",
        "labels=sess.run(numpy_labels)"
      ],
      "execution_count": 0,
      "outputs": []
    },
    {
      "cell_type": "code",
      "metadata": {
        "id": "8Qp1qcaH41az",
        "colab_type": "code",
        "outputId": "c3df0aba-b9d2-40ae-edb4-f0763cc15a61",
        "colab": {
          "base_uri": "https://localhost:8080/",
          "height": 34
        }
      },
      "source": [
        "labels.shape"
      ],
      "execution_count": 45,
      "outputs": [
        {
          "output_type": "execute_result",
          "data": {
            "text/plain": [
              "(60000, 10)"
            ]
          },
          "metadata": {
            "tags": []
          },
          "execution_count": 45
        }
      ]
    },
    {
      "cell_type": "markdown",
      "metadata": {
        "id": "9UsfdPiq2_6V",
        "colab_type": "text"
      },
      "source": [
        "Se realiza la misma codificación para el conjunto de prueba"
      ]
    },
    {
      "cell_type": "code",
      "metadata": {
        "id": "9gX1U2nuaRZu",
        "colab_type": "code",
        "colab": {}
      },
      "source": [
        "numpy_labels_test=tf.one_hot(numpy_labels_test, depth=class_output)\n",
        "labels_test=sess.run(numpy_labels_test)"
      ],
      "execution_count": 0,
      "outputs": []
    },
    {
      "cell_type": "code",
      "metadata": {
        "id": "lSVD5fl9M3Vd",
        "colab_type": "code",
        "outputId": "9a3fffbd-a7c8-48f6-87f6-ad8b6e6595d5",
        "colab": {
          "base_uri": "https://localhost:8080/",
          "height": 34
        }
      },
      "source": [
        "labels_test.shape"
      ],
      "execution_count": 47,
      "outputs": [
        {
          "output_type": "execute_result",
          "data": {
            "text/plain": [
              "(10000, 10)"
            ]
          },
          "metadata": {
            "tags": []
          },
          "execution_count": 47
        }
      ]
    },
    {
      "cell_type": "markdown",
      "metadata": {
        "id": "K2IDtYKO5JBc",
        "colab_type": "text"
      },
      "source": [
        "###Entrenamiento\n",
        "Se crean \"placeHolders\" para la variables de entrada (x) y la de salida (y_)."
      ]
    },
    {
      "cell_type": "code",
      "metadata": {
        "id": "XVg2nfu-ETgX",
        "colab_type": "code",
        "colab": {}
      },
      "source": [
        "x  = tf.placeholder(tf.float32, shape=[None, flat], name=\"x\")\n",
        "y_ = tf.placeholder(tf.float32, shape=[None, class_output], name=\"y_\")"
      ],
      "execution_count": 0,
      "outputs": []
    },
    {
      "cell_type": "markdown",
      "metadata": {
        "id": "pxfYy0aeCT6J",
        "colab_type": "text"
      },
      "source": [
        "Se crean las variables del modelo del perceptron y = x * W + b, donde (x) son las imagenes y (y) las etiquetas. W y b son los pesos y bias del modelo respectivamente"
      ]
    },
    {
      "cell_type": "code",
      "metadata": {
        "id": "DQXXiVl2FTiq",
        "colab_type": "code",
        "colab": {}
      },
      "source": [
        "W = tf.Variable(tf.zeros([flat, class_output],tf.float32), name=\"W\")\n",
        "b = tf.Variable(tf.zeros([class_output],tf.float32), name=\"b\")"
      ],
      "execution_count": 0,
      "outputs": []
    },
    {
      "cell_type": "code",
      "metadata": {
        "id": "nVdQK5j4eHdw",
        "colab_type": "code",
        "colab": {}
      },
      "source": [
        "sess.run(tf.global_variables_initializer())"
      ],
      "execution_count": 0,
      "outputs": []
    },
    {
      "cell_type": "markdown",
      "metadata": {
        "id": "8WE1_Nkw3nze",
        "colab_type": "text"
      },
      "source": [
        "Por definicion el Perceptron utiliza como función de activación \"softmax\""
      ]
    },
    {
      "cell_type": "code",
      "metadata": {
        "id": "keLF0TVEEf2_",
        "colab_type": "code",
        "colab": {}
      },
      "source": [
        "with tf.name_scope('net'):\n",
        "  y = tf.nn.softmax(tf.add(tf.matmul(x,W), b))"
      ],
      "execution_count": 0,
      "outputs": []
    },
    {
      "cell_type": "code",
      "metadata": {
        "id": "d68MC6swEkzM",
        "colab_type": "code",
        "colab": {}
      },
      "source": [
        "with tf.name_scope('cost'):\n",
        "  cross_entropy = tf.reduce_mean(-tf.reduce_sum(y_ * tf.log(y), reduction_indices=[1]), name=\"cross_entrophy\")"
      ],
      "execution_count": 0,
      "outputs": []
    },
    {
      "cell_type": "markdown",
      "metadata": {
        "id": "7D5k00Z16wR6",
        "colab_type": "text"
      },
      "source": [
        "Para este caso, se usa Gradiente Descendente como algoritmo de optimización"
      ]
    },
    {
      "cell_type": "code",
      "metadata": {
        "id": "WFXZe5UJEk2-",
        "colab_type": "code",
        "colab": {}
      },
      "source": [
        "learning_rate=1e-5#se selecciona un \"learning rate\" pequeño, y se observa la convergencia\n",
        "\n",
        "with tf.name_scope('optimization'):\n",
        "  optimizer=tf.train.GradientDescentOptimizer(learning_rate)\n",
        "  train_step = optimizer.minimize(cross_entropy)\n",
        "  tf_loss_summary = tf.summary.scalar('loss', cross_entropy)\n",
        "\n",
        "with tf.name_scope('accuracy'):  \n",
        "  prediction_training = tf.equal(tf.argmax(y, 1), tf.argmax(y_, 1))#se calcula la precision para cada nuevos parametros calculados en el entreanamiento\n",
        "  accuracy_training = tf.reduce_mean(tf.cast(prediction_training, tf.float32))\n",
        "  tf_acc_summary = tf.summary.scalar('accuracy', accuracy_training)\n",
        "\n",
        "performance = tf.summary.merge([tf_loss_summary, tf_acc_summary])"
      ],
      "execution_count": 0,
      "outputs": []
    },
    {
      "cell_type": "markdown",
      "metadata": {
        "id": "fpj4NkwWkbhI",
        "colab_type": "text"
      },
      "source": [
        "Se crea un objeto tensorboard que crea un link"
      ]
    },
    {
      "cell_type": "code",
      "metadata": {
        "id": "3jw7oFQts11J",
        "colab_type": "code",
        "outputId": "b58f36ae-a879-4ebb-b283-1a82dc5a92c4",
        "colab": {
          "base_uri": "https://localhost:8080/",
          "height": 68
        }
      },
      "source": [
        "from tensorboardcolab import * \n",
        "tbc = TensorBoardColab() \n",
        "writer = tbc.get_writer()"
      ],
      "execution_count": 54,
      "outputs": [
        {
          "output_type": "stream",
          "text": [
            "Wait for 8 seconds...\n",
            "TensorBoard link:\n",
            "http://abee027d.ngrok.io\n"
          ],
          "name": "stdout"
        }
      ]
    },
    {
      "cell_type": "markdown",
      "metadata": {
        "id": "s95UpkeJ7SnS",
        "colab_type": "text"
      },
      "source": [
        "Se ejecutan un conjunto finito de iteraciones, y se analiza la convergencia mediendo la diferencia entre dos sucesivos valores de costo"
      ]
    },
    {
      "cell_type": "code",
      "metadata": {
        "id": "MtcwWfIdEnyZ",
        "colab_type": "code",
        "outputId": "c28b2071-08a4-41e5-f885-c9e1040e8697",
        "colab": {
          "base_uri": "https://localhost:8080/",
          "height": 170
        }
      },
      "source": [
        "cost=0\n",
        "with tf.name_scope('training'):\n",
        "  for i in range(500):\n",
        "    step, new_cross_entropy, new_W, new_b = sess.run([train_step, cross_entropy, W, b], feed_dict={x: numpy_images, y_: labels})\n",
        "    diff=abs(cost-new_cross_entropy)\n",
        "    cost=new_cross_entropy\n",
        "    \n",
        "    summ = sess.run(performance, feed_dict={x: numpy_images, y_: labels})\n",
        "    writer.add_summary(summ, i)\n",
        "    \n",
        "    if i%10==0:\n",
        "      print(\"Paso: {}, Costo: {}\".format(i, new_cross_entropy) )\n",
        "    if i > 1 and diff < .001:#usamos un criterio de convergencia de 10-3 para finalizar el entrenamiento\n",
        "      print(\"El entrenamiento converge\")\n",
        "      break\n",
        "      \n",
        "#writer.add_graph(sess.graph)\n",
        "writer.add_graph(tf.get_default_graph())\n",
        "writer.flush() "
      ],
      "execution_count": 55,
      "outputs": [
        {
          "output_type": "stream",
          "text": [
            "Paso: 0, Costo: 2.3025853633880615\n",
            "Paso: 10, Costo: 0.7526967525482178\n",
            "Paso: 20, Costo: 0.5523132681846619\n",
            "Paso: 30, Costo: 0.49068164825439453\n",
            "Paso: 40, Costo: 0.4561556279659271\n",
            "Paso: 50, Costo: 0.43303775787353516\n",
            "Paso: 60, Costo: 0.4161933958530426\n",
            "Paso: 70, Costo: 0.4032211899757385\n",
            "El entrenamiento converge\n"
          ],
          "name": "stdout"
        }
      ]
    },
    {
      "cell_type": "markdown",
      "metadata": {
        "id": "5CAhCnuPToty",
        "colab_type": "text"
      },
      "source": [
        "Se determina la precision del modelo con los datos del conjunto de prueba"
      ]
    },
    {
      "cell_type": "code",
      "metadata": {
        "id": "E7fpKmxLY866",
        "colab_type": "code",
        "outputId": "b84b43aa-d240-417c-872c-ebd73ea0bb8f",
        "colab": {
          "base_uri": "https://localhost:8080/",
          "height": 34
        }
      },
      "source": [
        "with tf.name_scope('test'):\n",
        "  prediction = tf.equal(tf.argmax(y, 1), tf.argmax(y_, 1))\n",
        "  accuracy_test = tf.reduce_mean(tf.cast(prediction, tf.float32))*100\n",
        "  resul=tf.print(\"La precision del modelo es:\", accuracy_test)\n",
        "  resul=sess.run(resul, feed_dict={x: numpy_images_test, y_: labels_test} )   "
      ],
      "execution_count": 56,
      "outputs": [
        {
          "output_type": "stream",
          "text": [
            "La precision del modelo es: 90.0600052\n"
          ],
          "name": "stdout"
        }
      ]
    },
    {
      "cell_type": "markdown",
      "metadata": {
        "id": "iV56p0HJW6dg",
        "colab_type": "text"
      },
      "source": [
        "###Inferencia\n",
        "Con los parametros del modelo ya obtenidos (ultimos W y b), se selecciona una imagen aleatoria del conjunto de prueba y se hace pasar a traves del modelo"
      ]
    },
    {
      "cell_type": "code",
      "metadata": {
        "id": "YgbMOOLbTwnY",
        "colab_type": "code",
        "outputId": "4478dcd9-a5a5-4e5a-cd91-52e6f9d375c1",
        "colab": {
          "base_uri": "https://localhost:8080/",
          "height": 286
        }
      },
      "source": [
        "image_index = 567\n",
        "img=numpy_images_test[image_index].reshape(width,height)\n",
        "plt.imshow(img, cmap=\"gray\")\n",
        "\n",
        "prediction=tf.nn.softmax( tf.add( tf.matmul( tf.cast(tf.expand_dims( numpy_images_test[image_index],0), tf.float32), tf.cast(new_W, tf.float32) ), new_b ) )\n",
        "encode=tf.argmax(prediction, axis=1)#la predicion obtenida es un vector binario, se debe codificar a un valor numérico\n",
        "res=tf.print(\"El valor inferido es:\", encode)\n",
        "sess.run(res)"
      ],
      "execution_count": 57,
      "outputs": [
        {
          "output_type": "stream",
          "text": [
            "El valor inferido es: [4]\n"
          ],
          "name": "stdout"
        },
        {
          "output_type": "display_data",
          "data": {
            "image/png": "[encoded data removed]",
            "text/plain": [
              "<Figure size 432x288 with 1 Axes>"
            ]
          },
          "metadata": {
            "tags": []
          }
        }
      ]
    },
    {
      "cell_type": "code",
      "metadata": {
        "id": "2OAmO9qSEn2S",
        "colab_type": "code",
        "colab": {}
      },
      "source": [
        "sess.close() "
      ],
      "execution_count": 0,
      "outputs": []
    }
  ]
}